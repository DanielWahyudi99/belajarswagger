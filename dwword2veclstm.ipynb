{
 "cells": [
  {
   "cell_type": "code",
   "execution_count": 334,
   "id": "286de38e",
   "metadata": {},
   "outputs": [],
   "source": [
    "import pandas as pd\n",
    "import numpy as np\n",
    "import matplotlib.pyplot as plt\n",
    "import sklearn\n",
    "import pickle\n",
    "\n",
    "\n",
    "# Tensorflow NLP kit(only so much for our needs)\n",
    "from tensorflow.keras.preprocessing.sequence import pad_sequences\n",
    "from tensorflow.keras.layers import Embedding, LSTM, Dense, Dropout, Bidirectional\n",
    "from tensorflow.keras.preprocessing.text import Tokenizer"
   ]
  },
  {
   "cell_type": "code",
   "execution_count": 286,
   "id": "4e61a54f",
   "metadata": {},
   "outputs": [
    {
     "data": {
      "text/html": [
       "<div>\n",
       "<style scoped>\n",
       "    .dataframe tbody tr th:only-of-type {\n",
       "        vertical-align: middle;\n",
       "    }\n",
       "\n",
       "    .dataframe tbody tr th {\n",
       "        vertical-align: top;\n",
       "    }\n",
       "\n",
       "    .dataframe thead th {\n",
       "        text-align: right;\n",
       "    }\n",
       "</style>\n",
       "<table border=\"1\" class=\"dataframe\">\n",
       "  <thead>\n",
       "    <tr style=\"text-align: right;\">\n",
       "      <th></th>\n",
       "      <th>kalimat</th>\n",
       "      <th>label</th>\n",
       "    </tr>\n",
       "  </thead>\n",
       "  <tbody>\n",
       "    <tr>\n",
       "      <th>0</th>\n",
       "      <td>warung ini dimiliki oleh pengusaha pabrik tahu...</td>\n",
       "      <td>positive</td>\n",
       "    </tr>\n",
       "    <tr>\n",
       "      <th>1</th>\n",
       "      <td>mohon ulama lurus dan k212 mmbri hujjah partai...</td>\n",
       "      <td>neutral</td>\n",
       "    </tr>\n",
       "    <tr>\n",
       "      <th>2</th>\n",
       "      <td>lokasi strategis di jalan sumatera bandung . t...</td>\n",
       "      <td>positive</td>\n",
       "    </tr>\n",
       "    <tr>\n",
       "      <th>3</th>\n",
       "      <td>betapa bahagia nya diri ini saat unboxing pake...</td>\n",
       "      <td>positive</td>\n",
       "    </tr>\n",
       "    <tr>\n",
       "      <th>4</th>\n",
       "      <td>duh . jadi mahasiswa jangan sombong dong . kas...</td>\n",
       "      <td>negative</td>\n",
       "    </tr>\n",
       "  </tbody>\n",
       "</table>\n",
       "</div>"
      ],
      "text/plain": [
       "                                             kalimat     label\n",
       "0  warung ini dimiliki oleh pengusaha pabrik tahu...  positive\n",
       "1  mohon ulama lurus dan k212 mmbri hujjah partai...   neutral\n",
       "2  lokasi strategis di jalan sumatera bandung . t...  positive\n",
       "3  betapa bahagia nya diri ini saat unboxing pake...  positive\n",
       "4  duh . jadi mahasiswa jangan sombong dong . kas...  negative"
      ]
     },
     "execution_count": 286,
     "metadata": {},
     "output_type": "execute_result"
    }
   ],
   "source": [
    "dataku = pd.read_csv(\"train_preprocess.tsv\", sep='\\t', header=None)\n",
    "dataku.columns = [ \"kalimat\", \"label\"]\n",
    "dataku.head()\n",
    "# dataset yang digunakan dari BInar link test train_preprocess.tsv"
   ]
  },
  {
   "cell_type": "code",
   "execution_count": 287,
   "id": "59faa23a",
   "metadata": {},
   "outputs": [
    {
     "data": {
      "text/html": [
       "<div>\n",
       "<style scoped>\n",
       "    .dataframe tbody tr th:only-of-type {\n",
       "        vertical-align: middle;\n",
       "    }\n",
       "\n",
       "    .dataframe tbody tr th {\n",
       "        vertical-align: top;\n",
       "    }\n",
       "\n",
       "    .dataframe thead th {\n",
       "        text-align: right;\n",
       "    }\n",
       "</style>\n",
       "<table border=\"1\" class=\"dataframe\">\n",
       "  <thead>\n",
       "    <tr style=\"text-align: right;\">\n",
       "      <th></th>\n",
       "      <th>kalimat</th>\n",
       "      <th>label</th>\n",
       "    </tr>\n",
       "  </thead>\n",
       "  <tbody>\n",
       "    <tr>\n",
       "      <th>0</th>\n",
       "      <td>warung ini dimiliki oleh pengusaha pabrik tahu...</td>\n",
       "      <td>1</td>\n",
       "    </tr>\n",
       "    <tr>\n",
       "      <th>1</th>\n",
       "      <td>mohon ulama lurus dan k212 mmbri hujjah partai...</td>\n",
       "      <td>0</td>\n",
       "    </tr>\n",
       "    <tr>\n",
       "      <th>2</th>\n",
       "      <td>lokasi strategis di jalan sumatera bandung . t...</td>\n",
       "      <td>1</td>\n",
       "    </tr>\n",
       "    <tr>\n",
       "      <th>3</th>\n",
       "      <td>betapa bahagia nya diri ini saat unboxing pake...</td>\n",
       "      <td>1</td>\n",
       "    </tr>\n",
       "    <tr>\n",
       "      <th>4</th>\n",
       "      <td>duh . jadi mahasiswa jangan sombong dong . kas...</td>\n",
       "      <td>-1</td>\n",
       "    </tr>\n",
       "  </tbody>\n",
       "</table>\n",
       "</div>"
      ],
      "text/plain": [
       "                                             kalimat  label\n",
       "0  warung ini dimiliki oleh pengusaha pabrik tahu...      1\n",
       "1  mohon ulama lurus dan k212 mmbri hujjah partai...      0\n",
       "2  lokasi strategis di jalan sumatera bandung . t...      1\n",
       "3  betapa bahagia nya diri ini saat unboxing pake...      1\n",
       "4  duh . jadi mahasiswa jangan sombong dong . kas...     -1"
      ]
     },
     "execution_count": 287,
     "metadata": {},
     "output_type": "execute_result"
    }
   ],
   "source": [
    "#Pre-Processing Data\n",
    "# Mengubah Label String menjadi Integer\n",
    "\n",
    "cleanup_nums ={\"label\" :{\"positive\":1,\"neutral\":0 ,\"negative\":-1}}\n",
    "datayuk = dataku.replace (cleanup_nums)\n",
    "datayuk.head()"
   ]
  },
  {
   "cell_type": "code",
   "execution_count": 288,
   "id": "0875f29e",
   "metadata": {
    "scrolled": true
   },
   "outputs": [
    {
     "name": "stdout",
     "output_type": "stream",
     "text": [
      "Total Jumlah data: 11000 data\n",
      "\n",
      "terdiri dari{label}:\n",
      "--[-1]:Label Negative:\t 3436 data\n",
      "\n",
      "--[0]:Label Neutral:\t 1148 data\n",
      "\n",
      "--[1]:Label Positive:\t 6416 data\n",
      "\n"
     ]
    }
   ],
   "source": [
    "print (\"Total Jumlah data:\" , datayuk.shape[0], 'data\\n')\n",
    "print (\"terdiri dari{label}:\")\n",
    "print (\"--[-1]:Label Negative:\\t\" , datayuk[datayuk.label == -1].shape[0], 'data\\n')\n",
    "print (\"--[0]:Label Neutral:\\t\" , datayuk[datayuk.label == 0].shape[0], 'data\\n')\n",
    "print (\"--[1]:Label Positive:\\t\" , datayuk[datayuk.label == 1].shape[0], 'data\\n')"
   ]
  },
  {
   "cell_type": "code",
   "execution_count": 323,
   "id": "a391452f",
   "metadata": {},
   "outputs": [],
   "source": [
    "#membuat fungsi text_preprocessing untuk melakukan preprocessing data.\n",
    "#melihat waktu komputasi pada saat melakukan text preprocessing Membaca Dataset\n",
    "\n",
    "import re\n",
    "\n",
    "def text_preprocessing(text):\n",
    "    text = text.lower()\n",
    "    text = re.sub(r'https?://\\S+|www\\.\\S+', '', text ) #Menghapus URL\n",
    "    text = re.sub(r'[-+]?[0-9+]','', text )    #Menghapus Angka\n",
    "    text = re.sub(r'[^\\w\\s]','', text) # menghapus karakter tanda baca\n",
    "    text = text.strip() # menghapus whitespaces\n",
    "    return text"
   ]
  },
  {
   "cell_type": "code",
   "execution_count": 290,
   "id": "15cff85c",
   "metadata": {},
   "outputs": [
    {
     "name": "stdout",
     "output_type": "stream",
     "text": [
      "Wall time: 210 ms\n"
     ]
    }
   ],
   "source": [
    "#waktu komputasi untuk text preprocessing\n",
    "%time datayuk['clean_kalimat'] = datayuk['kalimat'].apply(text_preprocessing) "
   ]
  },
  {
   "cell_type": "code",
   "execution_count": 291,
   "id": "b4c2b9f7",
   "metadata": {},
   "outputs": [
    {
     "data": {
      "text/html": [
       "<div>\n",
       "<style scoped>\n",
       "    .dataframe tbody tr th:only-of-type {\n",
       "        vertical-align: middle;\n",
       "    }\n",
       "\n",
       "    .dataframe tbody tr th {\n",
       "        vertical-align: top;\n",
       "    }\n",
       "\n",
       "    .dataframe thead th {\n",
       "        text-align: right;\n",
       "    }\n",
       "</style>\n",
       "<table border=\"1\" class=\"dataframe\">\n",
       "  <thead>\n",
       "    <tr style=\"text-align: right;\">\n",
       "      <th></th>\n",
       "      <th>kalimat</th>\n",
       "      <th>label</th>\n",
       "      <th>clean_kalimat</th>\n",
       "    </tr>\n",
       "  </thead>\n",
       "  <tbody>\n",
       "    <tr>\n",
       "      <th>0</th>\n",
       "      <td>warung ini dimiliki oleh pengusaha pabrik tahu...</td>\n",
       "      <td>1</td>\n",
       "      <td>warung ini dimiliki oleh pengusaha pabrik tahu...</td>\n",
       "    </tr>\n",
       "    <tr>\n",
       "      <th>1</th>\n",
       "      <td>mohon ulama lurus dan k212 mmbri hujjah partai...</td>\n",
       "      <td>0</td>\n",
       "      <td>mohon ulama lurus dan k mmbri hujjah partai ap...</td>\n",
       "    </tr>\n",
       "    <tr>\n",
       "      <th>2</th>\n",
       "      <td>lokasi strategis di jalan sumatera bandung . t...</td>\n",
       "      <td>1</td>\n",
       "      <td>lokasi strategis di jalan sumatera bandung  te...</td>\n",
       "    </tr>\n",
       "    <tr>\n",
       "      <th>3</th>\n",
       "      <td>betapa bahagia nya diri ini saat unboxing pake...</td>\n",
       "      <td>1</td>\n",
       "      <td>betapa bahagia nya diri ini saat unboxing pake...</td>\n",
       "    </tr>\n",
       "    <tr>\n",
       "      <th>4</th>\n",
       "      <td>duh . jadi mahasiswa jangan sombong dong . kas...</td>\n",
       "      <td>-1</td>\n",
       "      <td>duh  jadi mahasiswa jangan sombong dong  kasih...</td>\n",
       "    </tr>\n",
       "  </tbody>\n",
       "</table>\n",
       "</div>"
      ],
      "text/plain": [
       "                                             kalimat  label  \\\n",
       "0  warung ini dimiliki oleh pengusaha pabrik tahu...      1   \n",
       "1  mohon ulama lurus dan k212 mmbri hujjah partai...      0   \n",
       "2  lokasi strategis di jalan sumatera bandung . t...      1   \n",
       "3  betapa bahagia nya diri ini saat unboxing pake...      1   \n",
       "4  duh . jadi mahasiswa jangan sombong dong . kas...     -1   \n",
       "\n",
       "                                       clean_kalimat  \n",
       "0  warung ini dimiliki oleh pengusaha pabrik tahu...  \n",
       "1  mohon ulama lurus dan k mmbri hujjah partai ap...  \n",
       "2  lokasi strategis di jalan sumatera bandung  te...  \n",
       "3  betapa bahagia nya diri ini saat unboxing pake...  \n",
       "4  duh  jadi mahasiswa jangan sombong dong  kasih...  "
      ]
     },
     "execution_count": 291,
     "metadata": {},
     "output_type": "execute_result"
    }
   ],
   "source": [
    "datayuk.head()"
   ]
  },
  {
   "cell_type": "code",
   "execution_count": 292,
   "id": "a8395214",
   "metadata": {},
   "outputs": [
    {
     "data": {
      "text/plain": [
       "'4.1.2'"
      ]
     },
     "execution_count": 292,
     "metadata": {},
     "output_type": "execute_result"
    }
   ],
   "source": [
    "#Ekstrasi Fitur\n",
    "\n",
    "# Word2Vec\n",
    "# Mengimport library gensim\n",
    "# Melakukan Tokenize kata pada setiap kalimat\n",
    "# Mendefiniskan parameter training dalam Word2Vec\n",
    "\n",
    "import gensim\n",
    "\n",
    "#cek version gensimnya\n",
    "gensim.__version__"
   ]
  },
  {
   "cell_type": "code",
   "execution_count": 324,
   "id": "b75bfa04",
   "metadata": {},
   "outputs": [
    {
     "data": {
      "text/plain": [
       "0        [warung, ini, dimiliki, oleh, pengusaha, pabri...\n",
       "1        [mohon, ulama, lurus, dan, k, mmbri, hujjah, p...\n",
       "2        [lokasi, strategis, di, jalan, sumatera, bandu...\n",
       "3        [betapa, bahagia, nya, diri, ini, saat, unboxi...\n",
       "4        [duh, jadi, mahasiswa, jangan, sombong, dong, ...\n",
       "                               ...                        \n",
       "10995                                      [tidak, kecewa]\n",
       "10996    [enak, rasa, masakan, nya, apalagi, kepiting, ...\n",
       "10997     [hormati, partaipartai, yang, telah, berkoalisi]\n",
       "10998    [pagi, pagi, di, tol, pasteur, sudah, macet, p...\n",
       "10999    [meskipun, sering, belanja, ke, yogya, di, ria...\n",
       "Name: clean_kalimat, Length: 11000, dtype: object"
      ]
     },
     "execution_count": 324,
     "metadata": {},
     "output_type": "execute_result"
    }
   ],
   "source": [
    "# melakukan tokenize data pada setiap kalimat\n",
    "# tujuannya :sebelumya kalimat menjadi kata\n",
    "\n",
    "def tokenization(text):\n",
    "    text = re.split('\\W+',text)\n",
    "    return text\n",
    "\n",
    "sentences = datayuk['clean_kalimat'].apply(lambda x: tokenization(x.lower()))\n",
    "sentences"
   ]
  },
  {
   "cell_type": "code",
   "execution_count": 294,
   "id": "e6f45dd0",
   "metadata": {},
   "outputs": [],
   "source": [
    "# mendefiniskan parameter training word2vec\n",
    "\n",
    "\n",
    "EMBEDDING_SIZE =  100 # dimensi word vector/ neuron pada projection (hidde)layer\n",
    "WINDOWS_SIZE = 5 # WINDOWS SIZE JARAK MAKSIMUM ANTARA KATA SAAT INI DANN YANG DIPREDIKSI DALAM SEBUAH\n",
    "MIN_WORD = 1 # MODEL AKAN MENGABAIKAN  SEMUA KATA DENGAN FREKUENSI TOTAL LEBIH RENDAR DARI INI (OPSIONAL)\n",
    "EPOCH = 10 # JUMLAH ITERASI (EPOCH)\n",
    "SG = 1 # STRATEGI ALGORITH PELATIHAN : 1 UNTUK SKIP GRAIM , 0 UNTUK CBOW\n",
    "NEGATIVE = 5 # NEGATIVE SAMPLING JIKA 0 NEGATIVE SAMPLING TIDAK DIGUNAKAN\n"
   ]
  },
  {
   "cell_type": "code",
   "execution_count": null,
   "id": "c5cb5252",
   "metadata": {},
   "outputs": [],
   "source": [
    "# MELIHAT KOMPUTASI WAJTU SAAT PROSES TRAINING DALAM WORD2VEC\n",
    "#MENYIMPAN WORD2VEC SEBAGAI FULL MODE. (MODE_WORD2VEC.SAVE)\n",
    "# MENYIMPAN KATA DAN TRAINED EMBEDDING DI WORD2VEC SEBAGAI WORD VECTORS (WORD2VEC_WORD_VECTOR.SAVE)\n",
    "# MENCARI NULAI VEKTOR DARI KATA 'BAHAGIA' DI DALAM MODEL WORD2 VEC ( MODEL_WORD2VEC.WV)"
   ]
  },
  {
   "cell_type": "code",
   "execution_count": 295,
   "id": "d59d5bd9",
   "metadata": {},
   "outputs": [
    {
     "name": "stdout",
     "output_type": "stream",
     "text": [
      "Wall time: 2.73 s\n"
     ]
    }
   ],
   "source": [
    "%%time\n",
    "\n",
    "# proses training Word2ve\n",
    "from gensim.models import Word2Vec , FastText , KeyedVectors\n",
    "#model_word2veb =Word2Vec(sentences,size=EMBEDDING_SIZE,sg = SG, window=WINDOWS_SIZE, min_count=MIN_WORD, negative =NEGATIVE , iter =EPOCH)\n",
    "model_word2veb =Word2Vec(sentences ,vector_size =100 ,window=WINDOWS_SIZE, min_count=MIN_WORD, negative =NEGATIVE ,epochs =EPOCH)\n"
   ]
  },
  {
   "cell_type": "code",
   "execution_count": 296,
   "id": "5116a7be",
   "metadata": {},
   "outputs": [],
   "source": [
    "# save word2vec sebagai model\n",
    "model_word2veb.save(\"myvec-word2vec-100.model\")"
   ]
  },
  {
   "cell_type": "code",
   "execution_count": 297,
   "id": "6a25cbeb",
   "metadata": {},
   "outputs": [
    {
     "data": {
      "text/plain": [
       "<gensim.models.keyedvectors.KeyedVectors at 0x2d9e22d8070>"
      ]
     },
     "execution_count": 297,
     "metadata": {},
     "output_type": "execute_result"
    }
   ],
   "source": [
    "# save word2vec sebagai wordvectors , hanya menyimpan kata dan trained embeddingnya\n",
    "\n",
    "word2vec_word_vectors = model_word2veb.wv\n",
    "word2vec_word_vectors.save(\"myvec-word2vec-100.model\")\n",
    "\n",
    "model_word2veb.wv "
   ]
  },
  {
   "cell_type": "code",
   "execution_count": 298,
   "id": "f9fc8bd2",
   "metadata": {},
   "outputs": [
    {
     "data": {
      "text/plain": [
       "array([-0.19654095,  0.27746454, -0.11468802, -0.10599843, -0.00768241,\n",
       "       -0.37184623,  0.1411884 ,  0.42671654, -0.19538248,  0.0464864 ,\n",
       "       -0.10553358, -0.42841285,  0.03129089,  0.01346174, -0.04841951,\n",
       "       -0.16303004,  0.14322625, -0.19404699, -0.03724009, -0.378252  ,\n",
       "        0.2801851 , -0.11110275,  0.09134837, -0.04813251, -0.02134787,\n",
       "        0.00794789,  0.07624791, -0.01943138, -0.3464272 ,  0.04543546,\n",
       "        0.0452478 , -0.14627719,  0.00683914, -0.05124352, -0.13623525,\n",
       "        0.21137701,  0.06346337, -0.19134504, -0.08469299, -0.26663023,\n",
       "        0.03966012, -0.04834016, -0.02860345,  0.08334951,  0.06333207,\n",
       "       -0.11112101, -0.17443728, -0.15854903,  0.04261748, -0.1418572 ,\n",
       "        0.01966451, -0.17106777,  0.03175291,  0.0328647 ,  0.10252616,\n",
       "       -0.04627686,  0.15816621, -0.19770141, -0.28076494, -0.07696132,\n",
       "       -0.07221687, -0.1738924 ,  0.03408666, -0.04506777, -0.3730356 ,\n",
       "        0.246436  ,  0.2081564 ,  0.15544891, -0.27281347,  0.14338985,\n",
       "       -0.27448058, -0.00278834,  0.13477981, -0.01200404,  0.10628755,\n",
       "        0.18827951, -0.04636167, -0.0575204 , -0.19793543,  0.04319993,\n",
       "       -0.27361947,  0.04957579, -0.21732314,  0.25289664, -0.29380462,\n",
       "       -0.03711484, -0.2223569 ,  0.18315032,  0.06173963, -0.09041061,\n",
       "        0.27984706,  0.15549126,  0.32296267, -0.1068746 ,  0.31530026,\n",
       "       -0.03637547,  0.2594279 , -0.04927298,  0.23644917, -0.02645896],\n",
       "      dtype=float32)"
      ]
     },
     "execution_count": 298,
     "metadata": {},
     "output_type": "execute_result"
    }
   ],
   "source": [
    "#cari nilai vektor dari kata tertentu\n",
    "model_word2veb.wv['bahagia']"
   ]
  },
  {
   "cell_type": "code",
   "execution_count": 299,
   "id": "d2e26fc8",
   "metadata": {},
   "outputs": [
    {
     "data": {
      "text/plain": [
       "array([-0.19654095,  0.27746454, -0.11468802, -0.10599843, -0.00768241,\n",
       "       -0.37184623,  0.1411884 ,  0.42671654, -0.19538248,  0.0464864 ,\n",
       "       -0.10553358, -0.42841285,  0.03129089,  0.01346174, -0.04841951,\n",
       "       -0.16303004,  0.14322625, -0.19404699, -0.03724009, -0.378252  ,\n",
       "        0.2801851 , -0.11110275,  0.09134837, -0.04813251, -0.02134787,\n",
       "        0.00794789,  0.07624791, -0.01943138, -0.3464272 ,  0.04543546,\n",
       "        0.0452478 , -0.14627719,  0.00683914, -0.05124352, -0.13623525,\n",
       "        0.21137701,  0.06346337, -0.19134504, -0.08469299, -0.26663023,\n",
       "        0.03966012, -0.04834016, -0.02860345,  0.08334951,  0.06333207,\n",
       "       -0.11112101, -0.17443728, -0.15854903,  0.04261748, -0.1418572 ,\n",
       "        0.01966451, -0.17106777,  0.03175291,  0.0328647 ,  0.10252616,\n",
       "       -0.04627686,  0.15816621, -0.19770141, -0.28076494, -0.07696132,\n",
       "       -0.07221687, -0.1738924 ,  0.03408666, -0.04506777, -0.3730356 ,\n",
       "        0.246436  ,  0.2081564 ,  0.15544891, -0.27281347,  0.14338985,\n",
       "       -0.27448058, -0.00278834,  0.13477981, -0.01200404,  0.10628755,\n",
       "        0.18827951, -0.04636167, -0.0575204 , -0.19793543,  0.04319993,\n",
       "       -0.27361947,  0.04957579, -0.21732314,  0.25289664, -0.29380462,\n",
       "       -0.03711484, -0.2223569 ,  0.18315032,  0.06173963, -0.09041061,\n",
       "        0.27984706,  0.15549126,  0.32296267, -0.1068746 ,  0.31530026,\n",
       "       -0.03637547,  0.2594279 , -0.04927298,  0.23644917, -0.02645896],\n",
       "      dtype=float32)"
      ]
     },
     "execution_count": 299,
     "metadata": {},
     "output_type": "execute_result"
    }
   ],
   "source": [
    "word2vec_word_vectors['bahagia']"
   ]
  },
  {
   "cell_type": "code",
   "execution_count": 300,
   "id": "76d9d60b",
   "metadata": {},
   "outputs": [
    {
     "data": {
      "text/plain": [
       "[('baca', 0.9388450980186462),\n",
       " ('galau', 0.9370220303535461),\n",
       " ('emosi', 0.9182422161102295),\n",
       " ('iri', 0.9130538702011108),\n",
       " ('meng', 0.9029670357704163),\n",
       " ('bung', 0.8990241885185242),\n",
       " ('maksud', 0.8978148698806763),\n",
       " ('argumen', 0.8977999091148376),\n",
       " ('bakalan', 0.8960261940956116),\n",
       " ('saudarasaudara', 0.8960250020027161)]"
      ]
     },
     "execution_count": 300,
     "metadata": {},
     "output_type": "execute_result"
    }
   ],
   "source": [
    "# menemukan kata kata teratas yang paling mirip dari kata tertentu\n",
    "# menghitung kesamaa dari vektor bobot proyekis dari kata kata yang diberikan dan vektor untuk setiap kata dala model\n",
    "\n",
    "word2vec_word_vectors.most_similar('bahagia')\n",
    "\n"
   ]
  },
  {
   "cell_type": "code",
   "execution_count": 329,
   "id": "8baee14f",
   "metadata": {},
   "outputs": [
    {
     "name": "stdout",
     "output_type": "stream",
     "text": [
      "Vocab size 17416\n"
     ]
    }
   ],
   "source": [
    "\n",
    "words = list(model_word2veb.wv.index_to_key)\n",
    "vocab_size = len(words)\n",
    "print(\"Vocab size\", vocab_size)"
   ]
  },
  {
   "cell_type": "code",
   "execution_count": 330,
   "id": "461f19af",
   "metadata": {},
   "outputs": [],
   "source": [
    "W2V_SIZE = 228"
   ]
  },
  {
   "cell_type": "code",
   "execution_count": 336,
   "id": "849ff885",
   "metadata": {},
   "outputs": [
    {
     "ename": "AttributeError",
     "evalue": "type object 'Tokenizer' has no attribute 'items'",
     "output_type": "error",
     "traceback": [
      "\u001b[1;31m---------------------------------------------------------------------------\u001b[0m",
      "\u001b[1;31mAttributeError\u001b[0m                            Traceback (most recent call last)",
      "\u001b[1;32m~\\AppData\\Local\\Temp/ipykernel_18456/3073742730.py\u001b[0m in \u001b[0;36m<module>\u001b[1;34m\u001b[0m\n\u001b[0;32m      1\u001b[0m \u001b[1;31m# Embedding matrix for the embedding layer\u001b[0m\u001b[1;33m\u001b[0m\u001b[1;33m\u001b[0m\u001b[0m\n\u001b[0;32m      2\u001b[0m \u001b[0membedding_matrix\u001b[0m \u001b[1;33m=\u001b[0m \u001b[0mnp\u001b[0m\u001b[1;33m.\u001b[0m\u001b[0mzeros\u001b[0m\u001b[1;33m(\u001b[0m\u001b[1;33m(\u001b[0m\u001b[0mvocab_size\u001b[0m\u001b[1;33m+\u001b[0m\u001b[1;36m1\u001b[0m\u001b[1;33m,\u001b[0m \u001b[0mW2V_SIZE\u001b[0m\u001b[1;33m)\u001b[0m\u001b[1;33m)\u001b[0m\u001b[1;33m\u001b[0m\u001b[1;33m\u001b[0m\u001b[0m\n\u001b[1;32m----> 3\u001b[1;33m \u001b[1;32mfor\u001b[0m \u001b[0mword\u001b[0m\u001b[1;33m,\u001b[0m \u001b[0mi\u001b[0m \u001b[1;32min\u001b[0m \u001b[0mTokenizer\u001b[0m\u001b[1;33m.\u001b[0m\u001b[0mitems\u001b[0m\u001b[1;33m(\u001b[0m\u001b[1;33m)\u001b[0m\u001b[1;33m:\u001b[0m\u001b[1;33m\u001b[0m\u001b[1;33m\u001b[0m\u001b[0m\n\u001b[0m\u001b[0;32m      4\u001b[0m     \u001b[1;32mif\u001b[0m \u001b[0mword\u001b[0m \u001b[1;32min\u001b[0m \u001b[0mw2v_model\u001b[0m\u001b[1;33m.\u001b[0m\u001b[0mwv\u001b[0m\u001b[1;33m:\u001b[0m\u001b[1;33m\u001b[0m\u001b[1;33m\u001b[0m\u001b[0m\n\u001b[0;32m      5\u001b[0m         \u001b[0membedding_matrix\u001b[0m\u001b[1;33m[\u001b[0m\u001b[0mi\u001b[0m\u001b[1;33m]\u001b[0m \u001b[1;33m=\u001b[0m \u001b[0mw2v_model\u001b[0m\u001b[1;33m.\u001b[0m\u001b[0mwv\u001b[0m\u001b[1;33m[\u001b[0m\u001b[0mword\u001b[0m\u001b[1;33m]\u001b[0m\u001b[1;33m\u001b[0m\u001b[1;33m\u001b[0m\u001b[0m\n",
      "\u001b[1;31mAttributeError\u001b[0m: type object 'Tokenizer' has no attribute 'items'"
     ]
    }
   ],
   "source": []
  },
  {
   "cell_type": "code",
   "execution_count": 301,
   "id": "b17bf56f",
   "metadata": {},
   "outputs": [
    {
     "name": "stdout",
     "output_type": "stream",
     "text": [
      "[[-1.58158287e-01  1.34118521e+00 -1.50367558e+00 -4.82849002e-01\n",
      "  -7.24563479e-01 -9.37424719e-01  7.96808839e-01  1.14370108e+00\n",
      "  -3.06456983e-01  1.15552425e+00 -7.03285813e-01 -8.84243965e-01\n",
      "  -9.68105569e-02 -8.66374671e-01 -7.19245449e-02 -6.10130847e-01\n",
      "   3.15339535e-01 -1.06699836e+00  7.78773785e-01 -1.36547828e+00\n",
      "   9.39096093e-01 -2.53240347e-01  4.73496912e-04 -4.05171007e-01\n",
      "  -1.92060009e-01 -5.29533744e-01  2.10350037e-01 -7.63972342e-01\n",
      "  -9.80108976e-01 -5.00337481e-01  4.68186647e-01 -2.29583964e-01\n",
      "  -1.78031117e-01 -4.60038573e-01 -6.60640001e-01  6.62479162e-01\n",
      "   5.61869740e-01 -2.95801252e-01 -5.80724716e-01 -1.09057093e+00\n",
      "   1.02571398e-01 -5.27698338e-01 -7.60165155e-01  4.59526956e-01\n",
      "  -3.50120068e-02 -3.87496293e-01 -1.20878839e+00 -2.35596940e-01\n",
      "   2.87149429e-01 -8.00054550e-01 -5.28522357e-02 -9.81939137e-01\n",
      "  -2.18409315e-01  4.85054642e-01  1.29827464e+00 -1.17285335e+00\n",
      "   9.08110678e-01 -1.03025782e+00 -7.94430077e-01 -3.34172845e-01\n",
      "  -6.55805826e-01 -1.02524984e+00  6.29372895e-01 -2.28416339e-01\n",
      "  -1.74942458e+00  4.14259583e-01  4.37954366e-01 -3.09061967e-02\n",
      "  -1.10635352e+00 -3.55258226e-01 -1.47408235e+00 -8.56696606e-01\n",
      "   9.69743073e-01 -1.69485599e-01 -2.24957287e-01  1.02249432e+00\n",
      "  -1.71161681e-01 -2.40552664e-01 -1.32200766e+00  6.21069968e-01\n",
      "  -1.73366618e+00 -3.94794866e-02 -8.85155797e-01  2.37966850e-01\n",
      "  -1.28171253e+00 -5.27355254e-01 -6.32432640e-01  1.19037008e+00\n",
      "   1.24223804e+00 -4.24881540e-02  1.08924925e+00  2.22603273e+00\n",
      "   1.32605028e+00  5.19949831e-02  1.73344576e+00 -6.11655831e-01\n",
      "   2.27170929e-01  6.54359221e-01  1.40880990e+00  1.48624152e-01]\n",
      " [-1.46927312e-01  3.06149423e-01 -1.31727532e-01 -1.05949946e-01\n",
      "  -1.02378195e-02 -4.20081288e-01  1.31194338e-01  4.31856871e-01\n",
      "  -8.52980390e-02  3.40154842e-02 -1.42074406e-01 -3.44662964e-01\n",
      "  -6.57643601e-02 -7.52763450e-02  8.76110513e-03 -2.13447332e-01\n",
      "  -1.28329834e-02 -2.38407418e-01  1.34656876e-01 -3.60751241e-01\n",
      "   2.13522807e-01 -1.08685225e-01  5.56167625e-02 -6.08021170e-02\n",
      "  -6.67094439e-02 -1.08983032e-01  4.79096361e-02 -1.65285870e-01\n",
      "  -2.26435214e-01 -7.99920559e-02  8.82241279e-02 -9.55429897e-02\n",
      "  -2.08400451e-02 -1.47249281e-01 -8.87527466e-02  1.61627263e-01\n",
      "   1.06575653e-01 -1.32605925e-01 -1.14967786e-01 -2.16180488e-01\n",
      "   5.60906641e-02 -1.61383107e-01 -5.36054745e-02  8.77912194e-02\n",
      "   9.15949792e-02 -5.55854067e-02 -2.40723461e-01  3.28890532e-02\n",
      "   1.29072115e-01 -1.03960253e-01  2.75707133e-02 -1.58760324e-01\n",
      "   6.44228682e-02  1.48129955e-01  1.30404070e-01 -8.49857926e-02\n",
      "   1.37944892e-01 -1.79596052e-01 -2.14004681e-01 -6.93010464e-02\n",
      "  -8.07067752e-02 -9.46565121e-02  6.26695603e-02 -4.25398499e-02\n",
      "  -2.52620339e-01  1.50672510e-01  1.68583050e-01  1.85974821e-01\n",
      "  -2.80325055e-01  6.79106414e-02 -3.06055456e-01 -2.05438118e-02\n",
      "   1.68231040e-01 -4.19096537e-02  1.59089193e-01  2.18886912e-01\n",
      "  -9.13699493e-02 -2.63747387e-02 -2.32694209e-01  9.02016312e-02\n",
      "  -2.87844032e-01 -5.93777895e-02 -2.34282643e-01  1.56470507e-01\n",
      "  -2.19740972e-01 -7.38358349e-02 -1.01917185e-01  3.04855436e-01\n",
      "   1.95873499e-01  7.48451650e-02  2.14298695e-01  2.66149819e-01\n",
      "   2.57627785e-01 -2.05277372e-02  3.69442344e-01 -8.15070700e-03\n",
      "   1.78783208e-01 -5.03453612e-02  2.56235540e-01 -2.18279436e-02]\n",
      " [-9.73925218e-02  7.04148173e-01 -1.12623699e-01  3.00067246e-01\n",
      "  -3.43856476e-02 -9.53136683e-01  5.52924633e-01  8.42023492e-01\n",
      "   3.65731031e-01  1.65493026e-01 -1.56535193e-01 -8.56046736e-01\n",
      "  -2.11090967e-01 -1.41954944e-01 -1.18287735e-01 -4.89023179e-01\n",
      "   7.18869865e-02 -3.29823405e-01  9.52033177e-02 -7.27162361e-01\n",
      "   1.33978799e-01 -1.65902421e-01 -1.23221368e-01 -5.08867204e-01\n",
      "  -3.70804399e-01  3.23093012e-02  1.67513222e-01 -3.15227628e-01\n",
      "  -1.09720789e-01 -1.90992624e-01  3.46162349e-01 -1.61175773e-01\n",
      "   2.05019280e-01 -3.80170673e-01 -2.35373586e-01 -1.38845876e-01\n",
      "   5.08490443e-01  1.46172330e-01  2.68244773e-01 -1.85736626e-01\n",
      "   2.50775307e-01 -6.11180604e-01 -3.41931641e-01  3.59916061e-01\n",
      "  -4.68320958e-02  1.99859892e-03 -7.61119902e-01  2.99746931e-01\n",
      "   5.69821000e-01 -4.48886722e-01 -9.09937993e-02 -5.31673908e-01\n",
      "   3.38726610e-01  6.13470793e-01  1.08298019e-01  1.94790587e-01\n",
      "   4.91076201e-01 -2.27608055e-01 -2.81140774e-01  1.43151462e-01\n",
      "  -2.35990062e-01 -5.80725372e-01  6.76004589e-02 -5.89577742e-02\n",
      "  -6.82261884e-02 -3.22647765e-03  3.56155455e-01  5.16551018e-01\n",
      "  -7.25387633e-01  5.81905767e-02 -5.26563704e-01  1.05935700e-01\n",
      "   3.16128761e-01 -8.86582136e-02  4.80837077e-01  2.78355896e-01\n",
      "  -1.96939453e-01 -8.64898860e-02 -5.51179290e-01  6.29052296e-02\n",
      "  -5.19130707e-01  4.04428393e-02 -2.91820266e-03  1.61570281e-01\n",
      "  -6.14820600e-01 -1.69361755e-01 -1.66433692e-01  5.56941569e-01\n",
      "   5.87013602e-01  3.21361065e-01  6.67363107e-01  6.71780109e-01\n",
      "   3.66310894e-01  1.11861214e-01  9.12822127e-01  1.24547398e-02\n",
      "   3.70027035e-01 -1.86412767e-01  7.91479766e-01  3.28252971e-01]\n",
      " [-7.99123421e-02  1.33052871e-01 -1.51949264e-02  4.22701128e-02\n",
      "   3.85272801e-02 -2.97538877e-01  2.83826366e-02  2.95567781e-01\n",
      "   8.93748924e-02 -4.22616079e-02 -7.37187266e-02 -2.23508582e-01\n",
      "  -4.21096049e-02  9.26910117e-02 -7.30800182e-02 -1.39814466e-01\n",
      "  -3.01213493e-03 -8.19973126e-02  3.46481279e-02 -2.09276885e-01\n",
      "   8.82799774e-02 -1.20645665e-01  5.85588850e-02 -5.22120483e-02\n",
      "   4.73785726e-03 -3.18464674e-02 -2.12118439e-02 -5.95347211e-02\n",
      "  -8.67716447e-02  1.54289743e-02  4.53756116e-02 -5.67580462e-02\n",
      "  -3.89758265e-03 -7.01224804e-02 -1.01913407e-01  5.82459150e-03\n",
      "   5.84838428e-02 -1.19208552e-01 -2.65866350e-02 -1.00792356e-01\n",
      "   6.02988116e-02 -1.66818157e-01 -2.55324226e-02  3.93192098e-02\n",
      "   7.15580732e-02 -1.05594853e-02 -1.75711945e-01 -1.50068561e-02\n",
      "   9.12077650e-02 -3.01436838e-02  9.67678875e-02 -1.00984856e-01\n",
      "   5.70828319e-02  4.36175838e-02  6.39255717e-02  9.50350147e-03\n",
      "   1.43845245e-01 -1.37224734e-01 -8.51476789e-02 -5.15733585e-02\n",
      "  -3.86733525e-02 -6.92114159e-02  4.48000617e-02 -5.76200001e-02\n",
      "  -8.09511766e-02  9.08173844e-02  1.80857569e-01  1.30367577e-01\n",
      "  -1.81896150e-01  9.45791900e-02 -6.73299879e-02  9.54830348e-02\n",
      "   1.30386248e-01  2.60353573e-02  1.43381119e-01  8.27934891e-02\n",
      "  -1.45604163e-02 -3.52470912e-02 -7.06403777e-02  4.94149551e-02\n",
      "  -8.49503279e-02 -4.80757840e-02 -7.72755146e-02  8.86073783e-02\n",
      "  -8.68181065e-02 -6.64829044e-03 -6.89132586e-02  1.18275151e-01\n",
      "   1.24713473e-01  3.32835093e-02  1.50448799e-01  1.58779338e-01\n",
      "   9.55596268e-02 -2.99794115e-02  2.70816952e-01  7.83116370e-02\n",
      "   8.51408020e-02 -6.80941194e-02  1.81368545e-01  1.82853900e-02]\n",
      " [-1.32926136e-01  1.25531092e-01 -9.15375650e-02 -6.22658804e-02\n",
      "  -3.33799310e-02 -2.75498152e-01  1.61522795e-02  2.53647506e-01\n",
      "  -8.45347121e-02 -3.11547425e-02 -4.44513261e-02 -2.25166425e-01\n",
      "  -1.47247957e-02  2.90448889e-02  2.20475700e-02 -1.49680287e-01\n",
      "   3.68683711e-02 -1.76605493e-01  4.33407426e-02 -1.59517080e-01\n",
      "   1.58841759e-01 -6.25793859e-02 -3.51952360e-04 -6.84964731e-02\n",
      "  -3.93938050e-02 -6.17104881e-02 -1.39702195e-02 -1.04866065e-01\n",
      "  -1.46329045e-01 -7.34335408e-02  9.55701619e-02 -5.96921099e-03\n",
      "  -1.11423753e-01 -5.81478998e-02 -5.69981523e-02  6.26705289e-02\n",
      "   3.04495133e-02 -1.76562741e-01 -1.23473182e-01 -1.25115827e-01\n",
      "   1.50490925e-02 -1.23303846e-01 -9.56747960e-03  3.00504845e-02\n",
      "   7.46155754e-02 -4.72998247e-02 -1.08852014e-01  3.68897803e-02\n",
      "   1.11808637e-02  4.02581133e-02  1.37742788e-01 -1.39547125e-01\n",
      "  -1.19862994e-02  1.65219139e-02  1.06568784e-02  2.24902201e-03\n",
      "   1.01616599e-01 -9.44887772e-02 -1.81057706e-01 -3.25542912e-02\n",
      "  -3.96503545e-02 -6.73877168e-03  6.01444133e-02 -7.73356715e-03\n",
      "  -1.47012681e-01  1.03863746e-01  1.37517557e-01  1.77684113e-01\n",
      "  -1.28131330e-01  1.11149423e-01 -9.75034609e-02  3.06503568e-02\n",
      "   6.44098446e-02 -8.89333524e-03  1.10337451e-01  1.18626021e-01\n",
      "  -9.14677829e-02  3.04827895e-02 -9.85763818e-02 -1.98066942e-02\n",
      "  -1.26078486e-01 -2.41872594e-02 -1.75313294e-01  1.85367107e-01\n",
      "   6.22310815e-03 -1.82705764e-02 -6.14132918e-02  1.46544129e-01\n",
      "   1.29981086e-01  3.04844719e-03  1.45357519e-01  1.45063072e-01\n",
      "   1.30484387e-01  5.22400215e-02  2.32661769e-01  1.13305703e-01\n",
      "   1.90762244e-02 -3.27483825e-02  1.12332255e-01 -1.54836737e-02]\n",
      " [-2.65985757e-01  4.58676785e-01 -1.82909280e-01 -1.50586575e-01\n",
      "   3.06101255e-02 -6.65784895e-01  2.68640757e-01  5.47976434e-01\n",
      "  -1.00248419e-01  2.37896293e-01 -1.69983491e-01 -5.57659268e-01\n",
      "  -1.64173305e-01 -1.59795098e-02  1.39694512e-01 -3.99351746e-01\n",
      "   7.98138231e-02 -4.84680384e-01  1.89026535e-01 -5.98774076e-01\n",
      "   4.31563616e-01 -4.46666554e-02  2.00004697e-01 -1.23553537e-01\n",
      "   4.50476892e-02 -1.91614807e-01  9.14934743e-03 -2.90090889e-01\n",
      "  -4.04498219e-01 -2.73435771e-01  2.57092804e-01 -1.51508138e-01\n",
      "   8.37679282e-02 -2.43901208e-01 -2.91491181e-01  2.76235133e-01\n",
      "   2.86281437e-01 -1.48992851e-01 -2.89808810e-01 -2.90937126e-01\n",
      "   2.30935905e-02 -4.31687385e-01 -4.22263071e-02  2.93162972e-01\n",
      "   8.45485702e-02  1.19131990e-02 -4.50061470e-01  9.28815007e-02\n",
      "   2.38972902e-01 -3.84073034e-02 -3.54064181e-02 -3.54550660e-01\n",
      "   2.24981755e-02  2.16317818e-01  1.82059482e-01 -1.18392691e-01\n",
      "   3.97056222e-01 -2.05011413e-01 -4.17238414e-01 -2.30757952e-01\n",
      "  -1.35947973e-01 -1.79522216e-01  2.26390973e-01 -1.45513147e-01\n",
      "  -4.49421197e-01  3.57743651e-01  2.40322396e-01  2.16265947e-01\n",
      "  -5.18752694e-01  1.62354842e-01 -3.70172530e-01 -3.99438851e-02\n",
      "   2.70238578e-01 -4.74830940e-02  3.65004152e-01  1.54782608e-01\n",
      "  -3.39349732e-02 -3.14908996e-02 -5.63156247e-01  2.18299359e-01\n",
      "  -4.98601139e-01 -2.12942846e-02 -3.21259826e-01  2.30702981e-01\n",
      "  -3.85911614e-01 -9.74899083e-02 -1.60762429e-01  5.53403258e-01\n",
      "   2.73808002e-01  1.31612182e-01  3.62425059e-01  4.36246872e-01\n",
      "   2.19331488e-01  2.32416559e-02  6.44506276e-01  1.39856517e-01\n",
      "   2.35611215e-01 -9.70101133e-02  2.15069264e-01  9.82920602e-02]\n",
      " [-3.83021861e-01  3.89808118e-01 -3.40528116e-02 -5.05881429e-01\n",
      "  -1.18251562e-01 -6.53846502e-01  7.31670558e-02  6.35468841e-01\n",
      "  -2.73636788e-01 -2.44985953e-01 -9.59274024e-02 -4.89162922e-01\n",
      "   8.24988782e-02 -4.29193489e-02  1.54615194e-01 -2.89000690e-01\n",
      "   1.14422292e-01 -5.35497665e-01  1.40713871e-01 -1.95968822e-01\n",
      "   5.73346972e-01  1.27451226e-01 -2.17938833e-02  1.55522689e-01\n",
      "  -2.36830324e-01 -9.39376932e-03 -8.72495621e-02 -4.71786737e-01\n",
      "  -3.79631013e-01 -2.06319690e-02  7.87113905e-02 -2.69148707e-01\n",
      "  -3.68550330e-01 -3.67963642e-01 -5.37038326e-01  6.00368977e-01\n",
      "   1.86470047e-01 -5.43966353e-01 -2.27664813e-01 -4.84403282e-01\n",
      "  -1.04629017e-01 -1.06336638e-01  2.06665456e-01 -2.77759433e-02\n",
      "   3.05842519e-01 -3.48096415e-02 -1.48398131e-01 -1.31825209e-01\n",
      "   1.88778713e-01  1.34224519e-01  3.53366762e-01 -2.99393654e-01\n",
      "   2.78551113e-02 -9.30937603e-02 -1.24782272e-01 -1.08766623e-01\n",
      "   2.92071581e-01 -3.19540292e-01 -2.53279656e-01 -3.74218196e-01\n",
      "  -7.09258765e-03  6.75841942e-02  2.05596328e-01 -2.72675138e-02\n",
      "  -2.43245006e-01  5.16391575e-01  3.51962537e-01  9.00570229e-02\n",
      "  -5.34150898e-01  6.91232905e-02 -3.06825787e-01 -3.16909477e-02\n",
      "   2.21204773e-01 -1.85276181e-01  2.77108867e-02  5.15574813e-01\n",
      "  -3.96311671e-01  1.64603680e-01 -3.61065805e-01 -1.27592459e-01\n",
      "  -3.66680175e-01 -6.77620620e-02 -3.19856226e-01  4.13104624e-01\n",
      "  -4.82307076e-02 -1.32085368e-01 -8.33855122e-02  1.76141992e-01\n",
      "   1.51247934e-01 -4.19436395e-02  2.33344033e-01  4.57101405e-01\n",
      "   2.41036236e-01 -3.18352401e-01  4.22970116e-01 -9.37940478e-02\n",
      "   9.34036076e-03 -5.76582039e-03  1.41059920e-01 -1.07800942e-02]\n",
      " [-1.75402567e-01  5.04116058e-01 -1.78379938e-01  1.95604369e-01\n",
      "   2.27741320e-02 -6.62362874e-01  4.32781160e-01  6.49975955e-01\n",
      "   4.97470014e-02  2.33516723e-01 -2.81068444e-01 -8.75892103e-01\n",
      "  -7.04873204e-02 -1.00426227e-01 -1.93817675e-01 -4.42128420e-01\n",
      "   1.61646143e-01 -2.87372053e-01  1.22428037e-01 -3.84943902e-01\n",
      "   3.15382421e-01 -1.98859856e-01  1.14886150e-01 -2.55724669e-01\n",
      "  -8.58084708e-02 -4.84450273e-02 -9.30580720e-02  3.05224117e-02\n",
      "  -2.11632371e-01 -1.17469653e-01  1.68369226e-02 -1.11538917e-01\n",
      "   8.37684423e-02  2.08997175e-01 -1.63113996e-01 -1.00891031e-01\n",
      "   1.84248194e-01 -1.69985160e-01 -1.73800349e-01 -1.41941398e-01\n",
      "   6.66130111e-02 -7.81798363e-02 -1.70455724e-01  2.79317021e-01\n",
      "  -1.82175431e-02  2.03092955e-02 -4.00865972e-01  2.91878078e-02\n",
      "   2.97230214e-01 -2.96472907e-01 -5.62667325e-02 -3.89681518e-01\n",
      "   6.00716062e-02  2.98121065e-01  4.43632640e-02  5.98334968e-02\n",
      "   1.60152733e-01 -2.57965714e-01 -3.06218445e-01 -6.72602132e-02\n",
      "  -2.29019806e-01 -2.32802778e-01 -6.96118781e-03 -1.59816086e-01\n",
      "  -5.21876991e-01  2.08494589e-01  3.52843314e-01  5.07774293e-01\n",
      "  -5.24381697e-01  2.63181746e-01 -5.04780710e-01  6.93692043e-02\n",
      "   2.92694777e-01  1.60409454e-02  2.63927549e-01  1.84128582e-01\n",
      "  -9.64719728e-02 -4.74887788e-02 -5.07847309e-01  2.04226375e-01\n",
      "  -5.77650309e-01  1.50837034e-01 -3.32286030e-01  2.54694670e-01\n",
      "  -3.82252485e-01 -1.46784723e-01 -2.23178864e-01  5.53133905e-01\n",
      "   2.67296314e-01  1.72866937e-02  4.77369457e-01  3.36069971e-01\n",
      "   3.87013555e-01  9.02250484e-02  6.81445062e-01  8.46562535e-02\n",
      "   6.24646604e-01 -2.06124410e-02  5.17424405e-01  1.74476802e-01]\n",
      " [-3.08718663e-02  3.27153727e-02 -1.61702652e-02 -1.14044966e-02\n",
      "   1.25045516e-03 -6.15987442e-02  2.82678455e-02  5.67745529e-02\n",
      "   7.57225789e-05 -4.42194892e-03 -1.26817462e-03 -7.18776584e-02\n",
      "  -1.73689388e-02 -2.66238842e-02 -2.28852928e-02 -1.64612066e-02\n",
      "   2.56024883e-03 -3.55572999e-02  1.77252758e-02 -5.05645573e-03\n",
      "   3.34662236e-02  9.72346496e-03 -1.94694363e-02  4.36326489e-02\n",
      "  -3.66854817e-02 -1.59363970e-02  1.98976300e-03  5.24406438e-04\n",
      "  -4.09973301e-02 -1.75178312e-02  2.74423715e-02 -4.95225843e-03\n",
      "  -5.27944751e-02 -1.80474631e-02 -5.48644215e-02  1.41899418e-02\n",
      "   7.23666698e-02 -5.66903315e-02  3.33445682e-03 -1.53257707e-02\n",
      "   3.31934798e-03  5.33192325e-03  1.08872885e-02 -2.44556926e-02\n",
      "   5.00908270e-02  3.17829810e-02 -3.46329994e-02  1.24003086e-02\n",
      "   3.37538719e-02  2.04874715e-03  8.78768712e-02 -3.88876349e-02\n",
      "  -1.18499342e-02 -5.39515726e-03 -1.75102055e-02 -6.10413514e-02\n",
      "   3.74115724e-03 -5.36403321e-02 -2.62473095e-02 -1.29844053e-02\n",
      "  -2.79069785e-03  1.25096403e-02  4.12988476e-02 -4.53613885e-02\n",
      "  -3.97688262e-02  9.21784434e-03  6.61890954e-02  5.19025214e-02\n",
      "  -5.98037206e-02  8.77285097e-03 -4.73863408e-02  5.61550120e-03\n",
      "   3.36896293e-02 -4.45406884e-02  8.96676071e-03  4.21516970e-02\n",
      "  -5.92376292e-02  3.29224169e-02 -3.91853265e-02 -1.87601522e-02\n",
      "  -5.06826639e-02 -1.99287455e-03 -7.14641288e-02  4.61671241e-02\n",
      "   1.43647864e-02 -3.33243646e-02 -8.07997305e-03  1.82315372e-02\n",
      "   2.16366537e-02 -1.55266644e-02  1.91844385e-02  8.65098014e-02\n",
      "   9.23861563e-02 -3.31311859e-03  1.03778094e-01  5.49716759e-04\n",
      "   2.40816660e-02  4.56021633e-03  4.08531129e-02  1.84976514e-02]\n",
      " [ 1.31824519e-02  2.16225814e-02  2.36772629e-03  1.91756687e-03\n",
      "   3.14686745e-02  2.19743885e-02  2.11478472e-02  4.82413433e-02\n",
      "   6.32572733e-03 -1.41362883e-02  7.09303189e-03 -9.12976544e-03\n",
      "   1.67167895e-02 -9.19639971e-03 -4.76729684e-03 -1.36042468e-03\n",
      "   1.17822327e-02 -8.73814430e-03 -9.69009381e-03 -2.94412412e-02\n",
      "   6.92634797e-03  1.51891839e-02 -2.10975446e-02 -1.62166581e-02\n",
      "  -2.11790781e-02  3.76500352e-03 -2.66975514e-03  2.05301214e-03\n",
      "   6.93017431e-03  2.22029481e-02  3.18323565e-03  1.47059336e-02\n",
      "   4.70941653e-03  1.83258462e-03 -7.93736149e-03 -4.98581957e-03\n",
      "  -2.06400193e-02 -1.35191372e-02  4.32004668e-02  2.96184211e-03\n",
      "   2.62243524e-02 -3.55987139e-02 -1.44952619e-02  1.75071228e-02\n",
      "   4.52618301e-03 -1.16136065e-03 -2.02244241e-02 -2.13476960e-02\n",
      "   5.61568653e-03 -3.16254934e-03  5.47083793e-03 -3.21745500e-03\n",
      "   1.78194642e-02  2.52351686e-02  4.69495635e-03  1.28790345e-02\n",
      "  -1.14860004e-02  1.73224807e-02  1.83205307e-02  1.45684206e-03\n",
      "  -8.90946668e-03  8.25109053e-03 -1.54570872e-02 -4.23013326e-03\n",
      "  -2.28280970e-03  1.74964014e-02 -3.95921385e-03 -2.59824023e-02\n",
      "  -7.89678656e-03 -3.13030966e-02 -1.54159600e-02  1.04853231e-02\n",
      "  -7.36353453e-03 -3.11756562e-02  2.92262118e-02 -7.63185043e-03\n",
      "   1.65148061e-02  7.49153970e-03 -1.64718099e-03  6.88158674e-03\n",
      "  -3.56660895e-02  2.35666856e-02  1.95738692e-02  1.51150785e-02\n",
      "  -2.82282047e-02  9.09844693e-03  8.95544607e-03  4.54032840e-03\n",
      "   4.12719026e-02 -4.72169369e-03  1.06837656e-02  1.13564227e-02\n",
      "   2.31115259e-02  1.00127142e-02  4.25289869e-02 -3.39993602e-03\n",
      "   3.30871306e-02  1.48527161e-03  2.71667577e-02 -3.72602325e-03]]\n"
     ]
    }
   ],
   "source": [
    "# kata kata yang ingin kita plot vektornya\n",
    "#membuat kata-kata yang ingin kita plot vektornya .(word_list)\n",
    "\n",
    "world_list = ['marah','emosi' , 'masalah' , 'bersyukur','hadiah' ,'sedih' ,'selamat' ,'takut'  ,'lari' ,'akrab' ]\n",
    "\n",
    "#mebuat daftar vektro dari kata kata tersebut ( word_vectors)\n",
    "# daftar vektor dari kata kata tersebut\n",
    "#word_vectors = np.array ([model_word2veb.wv[x] for x in world_list] )\n",
    "word_vectors = np.array ([word2vec_word_vectors[x] for x in world_list] )\n",
    "print(word_vectors)"
   ]
  },
  {
   "cell_type": "code",
   "execution_count": 302,
   "id": "3ee76cb0",
   "metadata": {},
   "outputs": [],
   "source": [
    "# reduksi dimensi vektor ke 2D menggunakan PCA\n",
    "#print (sklearn.__version__)\n",
    "from sklearn.decomposition import PCA , KernelPCA\n",
    "\n",
    "# melakukan reduksi dimensi vektor ke 2D menggunakan PCA (red_word_vectors)\n",
    "\n",
    "dimred = PCA ( n_components = 2, copy = False , whiten = True)\n",
    "red_word_vectors = dimred.fit_transform(word_vectors)\n"
   ]
  },
  {
   "cell_type": "code",
   "execution_count": 303,
   "id": "fdb9c7ca",
   "metadata": {},
   "outputs": [
    {
     "data": {
      "text/plain": [
       "array([[ 2.595562  , -0.7816087 ],\n",
       "       [-0.25866082, -0.12611511],\n",
       "       [ 0.35777768,  2.288336  ],\n",
       "       [-0.5884117 , -0.02346473],\n",
       "       [-0.5754163 , -0.3622404 ],\n",
       "       [ 0.13799882,  0.14900751],\n",
       "       [-0.1336455 , -1.305458  ],\n",
       "       [ 0.10230823,  0.9724498 ],\n",
       "       [-0.781893  , -0.45053756],\n",
       "       [-0.85562   , -0.36036792]], dtype=float32)"
      ]
     },
     "execution_count": 303,
     "metadata": {},
     "output_type": "execute_result"
    }
   ],
   "source": [
    "# Lihat vektor hasil PCA dari 5 dimensi menjadi 2 dimensi\n",
    "\n",
    "red_word_vectors"
   ]
  },
  {
   "cell_type": "code",
   "execution_count": 304,
   "id": "9244d207",
   "metadata": {},
   "outputs": [],
   "source": [
    "#membuat fungsi plot (def plot) dimana hasil  plot-nya berisikan red_word_vectors dan word_list\n",
    "\n",
    "def plot ( datas, labels, fc =\"y\"):\n",
    "    plt.subplots_adjust(bottom = 0.1)\n",
    "    plt.scatter(datas[:,0] , datas [:,1] , marker ='o')\n",
    "    for label,x,y in zip(labels,datas[:,0],datas[:,1]):\n",
    "       plt.annotate(\n",
    "            label,\n",
    "            xy=(x, y), xytext=(-20, 20),\n",
    "            textcoords='offset points', ha='right', va='bottom',\n",
    "            bbox=dict(boxstyle='round,pad=0.5', fc='yellow', alpha=0.5),\n",
    "            arrowprops=dict(arrowstyle = '->', connectionstyle='arc3,rad=0'))  \n",
    "\n",
    "    plt.show()    \n",
    "    \n"
   ]
  },
  {
   "cell_type": "code",
   "execution_count": 305,
   "id": "6ef8f664",
   "metadata": {},
   "outputs": [
    {
     "data": {
      "image/png": "[encoded data removed]",
      "text/plain": [
       "<Figure size 432x288 with 1 Axes>"
      ]
     },
     "metadata": {
      "needs_background": "light"
     },
     "output_type": "display_data"
    }
   ],
   "source": [
    "plot ( red_word_vectors,world_list)\n",
    "\n",
    "# penjelasan word2vec\n",
    "#https://medium.com/@afrizalfir/mengenal-word2vec-af4758da6b5d"
   ]
  },
  {
   "cell_type": "code",
   "execution_count": 306,
   "id": "4db0b550",
   "metadata": {},
   "outputs": [
    {
     "name": "stdout",
     "output_type": "stream",
     "text": [
      "Model: \"sequential_26\"\n",
      "_________________________________________________________________\n",
      " Layer (type)                Output Shape              Param #   \n",
      "=================================================================\n",
      " embedding_21 (Embedding)    (None, 100, 100)          10000000  \n",
      "                                                                 \n",
      " lstm_8 (LSTM)               (None, 64)                42240     \n",
      "                                                                 \n",
      " dense_18 (Dense)            (None, 3)                 195       \n",
      "                                                                 \n",
      "=================================================================\n",
      "Total params: 10,042,435\n",
      "Trainable params: 10,042,435\n",
      "Non-trainable params: 0\n",
      "_________________________________________________________________\n",
      "None\n"
     ]
    }
   ],
   "source": [
    "\n",
    "##### INI HANYA SAMPAI YANG PLOT LAINNYA BLUM BISA"
   ]
  },
  {
   "cell_type": "code",
   "execution_count": 307,
   "id": "2945e957",
   "metadata": {},
   "outputs": [],
   "source": [
    "from sklearn.model_selection import train_test_split\n",
    "\n",
    "file = open(\"x_pad_sequences.pickle\",'rb')\n",
    "X = pickle.load(file)\n",
    "file.close()\n",
    "\n",
    "file = open(\"y_labels.pickle\",'rb')\n",
    "Y = pickle.load(file)\n",
    "file.close()\n",
    "\n",
    "X_train, X_test, y_train, y_test = train_test_split(X, Y, test_size=0.2, random_state=1)"
   ]
  },
  {
   "cell_type": "code",
   "execution_count": 317,
   "id": "29b2d56c",
   "metadata": {},
   "outputs": [
    {
     "name": "stdout",
     "output_type": "stream",
     "text": [
      "Model: \"sequential_34\"\n",
      "_________________________________________________________________\n",
      " Layer (type)                Output Shape              Param #   \n",
      "=================================================================\n",
      " embedding_29 (Embedding)    (None, 77, 100)           10000000  \n",
      "                                                                 \n",
      " simple_rnn_13 (SimpleRNN)   (None, 64)                10560     \n",
      "                                                                 \n",
      " dense_26 (Dense)            (None, 3)                 195       \n",
      "                                                                 \n",
      "=================================================================\n",
      "Total params: 10,010,755\n",
      "Trainable params: 10,010,755\n",
      "Non-trainable params: 0\n",
      "_________________________________________________________________\n",
      "None\n"
     ]
    }
   ],
   "source": [
    "# create model RNN\n",
    "\n",
    "\n",
    "from tensorflow.keras.models import Sequential\n",
    "from tensorflow.keras.layers import Dense, Embedding, SimpleRNN, Dropout\n",
    "\n",
    "from tensorflow.keras.callbacks import EarlyStopping\n",
    "\n",
    "# buat embedding layer yang menerima panjang dicitonary hasil tokenisai\n",
    "embed_dim = 100\n",
    "units = 64\n",
    "max_features = 100000\n",
    "\n",
    "model_RNN = Sequential()\n",
    "\n",
    "# input_lenght disini saya tulis 100, karena belum tau yang bener bagaimana\n",
    "model_RNN.add(Embedding(max_features, embed_dim, input_length =X.shape[1]))\n",
    "model_RNN.add(SimpleRNN(units, dropout=0.2))\n",
    "model_RNN.add(Dense(3,activation='softmax'))\n",
    "model_RNN.compile(loss = 'binary_crossentropy',metrics = ['accuracy'])\n",
    "print(model_RNN.summary())\n",
    "\n",
    "\n",
    "model_LSTM.compile(loss = 'categorical_crossentropy', optimizer = adam, metrics = ['accuracy'])\n",
    "\n",
    "es = EarlyStopping(monitor='val_loss', mode='min', verbose=1)\n",
    "#history = model.fit(X_train, y_train, epochs=10, batch_size=10, validation_data=(X_test, y_test), verbose=1, callbacks=[es])\n",
    "#optimizer dihapus karena ga paham fugsinyanya"
   ]
  },
  {
   "cell_type": "code",
   "execution_count": 349,
   "id": "2f7cd962",
   "metadata": {},
   "outputs": [
    {
     "name": "stdout",
     "output_type": "stream",
     "text": [
      "Model: \"sequential_41\"\n",
      "_________________________________________________________________\n",
      " Layer (type)                Output Shape              Param #   \n",
      "=================================================================\n",
      " embedding_36 (Embedding)    (None, 100, 100)          10000000  \n",
      "                                                                 \n",
      " lstm_19 (LSTM)              (None, 64)                42240     \n",
      "                                                                 \n",
      " dense_33 (Dense)            (None, 3)                 195       \n",
      "                                                                 \n",
      "=================================================================\n",
      "Total params: 10,042,435\n",
      "Trainable params: 10,042,435\n",
      "Non-trainable params: 0\n",
      "_________________________________________________________________\n",
      "None\n"
     ]
    }
   ],
   "source": [
    "# create model LSTM\n",
    "from tensorflow.keras.models import Sequential\n",
    "from tensorflow.keras.layers import Dense, Embedding, LSTM, Dropout\n",
    "\n",
    "from tensorflow.keras.callbacks import EarlyStopping\n",
    "\n",
    "# buat embedding layer yang menerima panjang dicitonary hasil tokenisai\n",
    "embed_dim = 100\n",
    "units = 64\n",
    "max_features = 100000\n",
    "\n",
    "model_LSTM = Sequential()\n",
    "\n",
    "# input_lenght disini saya tulis 100, karena belum tau yang bener bagaimana\n",
    "model_LSTM.add(Embedding(max_features, embed_dim, input_length =100))\n",
    "model_LSTM.add(LSTM(units, dropout=0.2))\n",
    "model_LSTM.add(Dense(3,activation='softmax'))\n",
    "model_LSTM.compile(loss = 'binary_crossentropy',metrics = ['accuracy'])\n",
    "print(model_LSTM.summary())\n",
    "\n",
    "\n",
    "\n",
    "#optimizer dihapus karena ga paham fugsinyanya"
   ]
  },
  {
   "cell_type": "code",
   "execution_count": 350,
   "id": "5ebdff8e",
   "metadata": {},
   "outputs": [
    {
     "name": "stdout",
     "output_type": "stream",
     "text": [
      "Epoch 1/10\n"
     ]
    },
    {
     "ename": "ValueError",
     "evalue": "in user code:\n\n    File \"C:\\Users\\wahyu\\anaconda3\\lib\\site-packages\\keras\\engine\\training.py\", line 1249, in train_function  *\n        return step_function(self, iterator)\n    File \"C:\\Users\\wahyu\\anaconda3\\lib\\site-packages\\keras\\engine\\training.py\", line 1233, in step_function  **\n        outputs = model.distribute_strategy.run(run_step, args=(data,))\n    File \"C:\\Users\\wahyu\\anaconda3\\lib\\site-packages\\keras\\engine\\training.py\", line 1222, in run_step  **\n        outputs = model.train_step(data)\n    File \"C:\\Users\\wahyu\\anaconda3\\lib\\site-packages\\keras\\engine\\training.py\", line 1023, in train_step\n        y_pred = self(x, training=True)\n    File \"C:\\Users\\wahyu\\anaconda3\\lib\\site-packages\\keras\\utils\\traceback_utils.py\", line 70, in error_handler\n        raise e.with_traceback(filtered_tb) from None\n    File \"C:\\Users\\wahyu\\anaconda3\\lib\\site-packages\\keras\\engine\\input_spec.py\", line 295, in assert_input_compatibility\n        raise ValueError(\n\n    ValueError: Input 0 of layer \"sequential_30\" is incompatible with the layer: expected shape=(None, 100), found shape=(10, 77)\n",
     "output_type": "error",
     "traceback": [
      "\u001b[1;31m---------------------------------------------------------------------------\u001b[0m",
      "\u001b[1;31mValueError\u001b[0m                                Traceback (most recent call last)",
      "\u001b[1;32m~\\AppData\\Local\\Temp/ipykernel_18456/3998014399.py\u001b[0m in \u001b[0;36m<module>\u001b[1;34m\u001b[0m\n\u001b[0;32m      2\u001b[0m \u001b[1;33m\u001b[0m\u001b[0m\n\u001b[0;32m      3\u001b[0m \u001b[0mes\u001b[0m \u001b[1;33m=\u001b[0m \u001b[0mEarlyStopping\u001b[0m\u001b[1;33m(\u001b[0m\u001b[0mmonitor\u001b[0m\u001b[1;33m=\u001b[0m\u001b[1;34m'val_loss'\u001b[0m\u001b[1;33m,\u001b[0m \u001b[0mmode\u001b[0m\u001b[1;33m=\u001b[0m\u001b[1;34m'min'\u001b[0m\u001b[1;33m,\u001b[0m \u001b[0mverbose\u001b[0m\u001b[1;33m=\u001b[0m\u001b[1;36m1\u001b[0m\u001b[1;33m)\u001b[0m\u001b[1;33m\u001b[0m\u001b[1;33m\u001b[0m\u001b[0m\n\u001b[1;32m----> 4\u001b[1;33m \u001b[0mhistory\u001b[0m \u001b[1;33m=\u001b[0m \u001b[0mmodel\u001b[0m\u001b[1;33m.\u001b[0m\u001b[0mfit\u001b[0m\u001b[1;33m(\u001b[0m\u001b[0mX_train\u001b[0m\u001b[1;33m,\u001b[0m \u001b[0my_train\u001b[0m\u001b[1;33m,\u001b[0m \u001b[0mepochs\u001b[0m\u001b[1;33m=\u001b[0m\u001b[1;36m10\u001b[0m\u001b[1;33m,\u001b[0m \u001b[0mbatch_size\u001b[0m\u001b[1;33m=\u001b[0m\u001b[1;36m10\u001b[0m\u001b[1;33m,\u001b[0m \u001b[0mvalidation_data\u001b[0m\u001b[1;33m=\u001b[0m\u001b[1;33m(\u001b[0m\u001b[0mX_test\u001b[0m\u001b[1;33m,\u001b[0m \u001b[0my_test\u001b[0m\u001b[1;33m)\u001b[0m\u001b[1;33m,\u001b[0m \u001b[0mverbose\u001b[0m\u001b[1;33m=\u001b[0m\u001b[1;36m1\u001b[0m\u001b[1;33m,\u001b[0m \u001b[0mcallbacks\u001b[0m\u001b[1;33m=\u001b[0m\u001b[1;33m[\u001b[0m\u001b[0mes\u001b[0m\u001b[1;33m]\u001b[0m\u001b[1;33m)\u001b[0m\u001b[1;33m\u001b[0m\u001b[1;33m\u001b[0m\u001b[0m\n\u001b[0m",
      "\u001b[1;32m~\\anaconda3\\lib\\site-packages\\keras\\utils\\traceback_utils.py\u001b[0m in \u001b[0;36merror_handler\u001b[1;34m(*args, **kwargs)\u001b[0m\n\u001b[0;32m     68\u001b[0m             \u001b[1;31m# To get the full stack trace, call:\u001b[0m\u001b[1;33m\u001b[0m\u001b[1;33m\u001b[0m\u001b[0m\n\u001b[0;32m     69\u001b[0m             \u001b[1;31m# `tf.debugging.disable_traceback_filtering()`\u001b[0m\u001b[1;33m\u001b[0m\u001b[1;33m\u001b[0m\u001b[0m\n\u001b[1;32m---> 70\u001b[1;33m             \u001b[1;32mraise\u001b[0m \u001b[0me\u001b[0m\u001b[1;33m.\u001b[0m\u001b[0mwith_traceback\u001b[0m\u001b[1;33m(\u001b[0m\u001b[0mfiltered_tb\u001b[0m\u001b[1;33m)\u001b[0m \u001b[1;32mfrom\u001b[0m \u001b[1;32mNone\u001b[0m\u001b[1;33m\u001b[0m\u001b[1;33m\u001b[0m\u001b[0m\n\u001b[0m\u001b[0;32m     71\u001b[0m         \u001b[1;32mfinally\u001b[0m\u001b[1;33m:\u001b[0m\u001b[1;33m\u001b[0m\u001b[1;33m\u001b[0m\u001b[0m\n\u001b[0;32m     72\u001b[0m             \u001b[1;32mdel\u001b[0m \u001b[0mfiltered_tb\u001b[0m\u001b[1;33m\u001b[0m\u001b[1;33m\u001b[0m\u001b[0m\n",
      "\u001b[1;32m~\\anaconda3\\lib\\site-packages\\keras\\engine\\training.py\u001b[0m in \u001b[0;36mtf__train_function\u001b[1;34m(iterator)\u001b[0m\n\u001b[0;32m     13\u001b[0m                 \u001b[1;32mtry\u001b[0m\u001b[1;33m:\u001b[0m\u001b[1;33m\u001b[0m\u001b[1;33m\u001b[0m\u001b[0m\n\u001b[0;32m     14\u001b[0m                     \u001b[0mdo_return\u001b[0m \u001b[1;33m=\u001b[0m \u001b[1;32mTrue\u001b[0m\u001b[1;33m\u001b[0m\u001b[1;33m\u001b[0m\u001b[0m\n\u001b[1;32m---> 15\u001b[1;33m                     \u001b[0mretval_\u001b[0m \u001b[1;33m=\u001b[0m \u001b[0mag__\u001b[0m\u001b[1;33m.\u001b[0m\u001b[0mconverted_call\u001b[0m\u001b[1;33m(\u001b[0m\u001b[0mag__\u001b[0m\u001b[1;33m.\u001b[0m\u001b[0mld\u001b[0m\u001b[1;33m(\u001b[0m\u001b[0mstep_function\u001b[0m\u001b[1;33m)\u001b[0m\u001b[1;33m,\u001b[0m \u001b[1;33m(\u001b[0m\u001b[0mag__\u001b[0m\u001b[1;33m.\u001b[0m\u001b[0mld\u001b[0m\u001b[1;33m(\u001b[0m\u001b[0mself\u001b[0m\u001b[1;33m)\u001b[0m\u001b[1;33m,\u001b[0m \u001b[0mag__\u001b[0m\u001b[1;33m.\u001b[0m\u001b[0mld\u001b[0m\u001b[1;33m(\u001b[0m\u001b[0miterator\u001b[0m\u001b[1;33m)\u001b[0m\u001b[1;33m)\u001b[0m\u001b[1;33m,\u001b[0m \u001b[1;32mNone\u001b[0m\u001b[1;33m,\u001b[0m \u001b[0mfscope\u001b[0m\u001b[1;33m)\u001b[0m\u001b[1;33m\u001b[0m\u001b[1;33m\u001b[0m\u001b[0m\n\u001b[0m\u001b[0;32m     16\u001b[0m                 \u001b[1;32mexcept\u001b[0m\u001b[1;33m:\u001b[0m\u001b[1;33m\u001b[0m\u001b[1;33m\u001b[0m\u001b[0m\n\u001b[0;32m     17\u001b[0m                     \u001b[0mdo_return\u001b[0m \u001b[1;33m=\u001b[0m \u001b[1;32mFalse\u001b[0m\u001b[1;33m\u001b[0m\u001b[1;33m\u001b[0m\u001b[0m\n",
      "\u001b[1;31mValueError\u001b[0m: in user code:\n\n    File \"C:\\Users\\wahyu\\anaconda3\\lib\\site-packages\\keras\\engine\\training.py\", line 1249, in train_function  *\n        return step_function(self, iterator)\n    File \"C:\\Users\\wahyu\\anaconda3\\lib\\site-packages\\keras\\engine\\training.py\", line 1233, in step_function  **\n        outputs = model.distribute_strategy.run(run_step, args=(data,))\n    File \"C:\\Users\\wahyu\\anaconda3\\lib\\site-packages\\keras\\engine\\training.py\", line 1222, in run_step  **\n        outputs = model.train_step(data)\n    File \"C:\\Users\\wahyu\\anaconda3\\lib\\site-packages\\keras\\engine\\training.py\", line 1023, in train_step\n        y_pred = self(x, training=True)\n    File \"C:\\Users\\wahyu\\anaconda3\\lib\\site-packages\\keras\\utils\\traceback_utils.py\", line 70, in error_handler\n        raise e.with_traceback(filtered_tb) from None\n    File \"C:\\Users\\wahyu\\anaconda3\\lib\\site-packages\\keras\\engine\\input_spec.py\", line 295, in assert_input_compatibility\n        raise ValueError(\n\n    ValueError: Input 0 of layer \"sequential_30\" is incompatible with the layer: expected shape=(None, 100), found shape=(10, 77)\n"
     ]
    }
   ],
   "source": [
    "model_LSTM.compile(loss = 'categorical_crossentropy', optimizer = adam, metrics = ['accuracy'])\n",
    "\n",
    "es = EarlyStopping(monitor='val_loss', mode='min', verbose=1)\n",
    "history = model.fit(X_train, y_train, epochs=10, batch_size=10, validation_data=(X_test, y_test), verbose=1, callbacks=[es])"
   ]
  },
  {
   "cell_type": "code",
   "execution_count": 351,
   "id": "09ae3f8a",
   "metadata": {},
   "outputs": [
    {
     "ename": "TypeError",
     "evalue": "'History' object is not subscriptable",
     "output_type": "error",
     "traceback": [
      "\u001b[1;31m---------------------------------------------------------------------------\u001b[0m",
      "\u001b[1;31mTypeError\u001b[0m                                 Traceback (most recent call last)",
      "\u001b[1;32m~\\AppData\\Local\\Temp/ipykernel_18456/153421432.py\u001b[0m in \u001b[0;36m<module>\u001b[1;34m\u001b[0m\n\u001b[0;32m      1\u001b[0m \u001b[0mplt\u001b[0m\u001b[1;33m.\u001b[0m\u001b[0mfigure\u001b[0m\u001b[1;33m(\u001b[0m\u001b[0mfigsize\u001b[0m\u001b[1;33m=\u001b[0m\u001b[1;33m(\u001b[0m\u001b[1;36m10\u001b[0m\u001b[1;33m,\u001b[0m\u001b[1;36m5\u001b[0m\u001b[1;33m)\u001b[0m\u001b[1;33m)\u001b[0m\u001b[1;33m\u001b[0m\u001b[1;33m\u001b[0m\u001b[0m\n\u001b[1;32m----> 2\u001b[1;33m \u001b[0mplt\u001b[0m\u001b[1;33m.\u001b[0m\u001b[0mplot\u001b[0m\u001b[1;33m(\u001b[0m\u001b[0mhistory\u001b[0m\u001b[1;33m[\u001b[0m\u001b[1;34m'accuracy'\u001b[0m\u001b[1;33m]\u001b[0m\u001b[1;33m)\u001b[0m\u001b[1;33m\u001b[0m\u001b[1;33m\u001b[0m\u001b[0m\n\u001b[0m\u001b[0;32m      3\u001b[0m \u001b[0mplt\u001b[0m\u001b[1;33m.\u001b[0m\u001b[0mplot\u001b[0m\u001b[1;33m(\u001b[0m\u001b[0mhistory\u001b[0m\u001b[1;33m[\u001b[0m\u001b[1;34m'val_accuracy'\u001b[0m\u001b[1;33m]\u001b[0m\u001b[1;33m)\u001b[0m\u001b[1;33m\u001b[0m\u001b[1;33m\u001b[0m\u001b[0m\n\u001b[0;32m      4\u001b[0m \u001b[0mplt\u001b[0m\u001b[1;33m.\u001b[0m\u001b[0mtitle\u001b[0m\u001b[1;33m(\u001b[0m\u001b[1;34m'model accuracy'\u001b[0m\u001b[1;33m)\u001b[0m\u001b[1;33m\u001b[0m\u001b[1;33m\u001b[0m\u001b[0m\n\u001b[0;32m      5\u001b[0m \u001b[0mplt\u001b[0m\u001b[1;33m.\u001b[0m\u001b[0mylabel\u001b[0m\u001b[1;33m(\u001b[0m\u001b[1;34m'accuracy'\u001b[0m\u001b[1;33m)\u001b[0m\u001b[1;33m\u001b[0m\u001b[1;33m\u001b[0m\u001b[0m\n",
      "\u001b[1;31mTypeError\u001b[0m: 'History' object is not subscriptable"
     ]
    },
    {
     "data": {
      "text/plain": [
       "<Figure size 720x360 with 0 Axes>"
      ]
     },
     "metadata": {},
     "output_type": "display_data"
    }
   ],
   "source": [
    "plt.figure(figsize=(10,5))\n",
    "plt.plot(history['accuracy'])\n",
    "plt.plot(history['val_accuracy'])\n",
    "plt.title('model accuracy')\n",
    "plt.ylabel('accuracy')\n",
    "plt.xlabel('epoch')\n",
    "plt.legend(['Train accuracy', 'Test accuracy'], loc='lower right')\n",
    "plt.show()\n",
    "# History for loss\n",
    "plt.figure(figsize=(10,5))\n",
    "plt.plot(history['loss'])\n",
    "plt.plot(history['val_loss'])\n",
    "plt.title('model loss')\n",
    "plt.ylabel('loss')\n",
    "plt.xlabel('epoch')\n",
    "plt.legend(['Train loss', 'Test loss'], loc='upper right')\n",
    "plt.suptitle('Accuracy and loss for second model')\n",
    "plt.show()"
   ]
  }
 ],
 "metadata": {
  "kernelspec": {
   "display_name": "Python 3 (ipykernel)",
   "language": "python",
   "name": "python3"
  },
  "language_info": {
   "codemirror_mode": {
    "name": "ipython",
    "version": 3
   },
   "file_extension": ".py",
   "mimetype": "text/x-python",
   "name": "python",
   "nbconvert_exporter": "python",
   "pygments_lexer": "ipython3",
   "version": "3.9.7"
  }
 },
 "nbformat": 4,
 "nbformat_minor": 5
}
